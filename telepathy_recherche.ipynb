{
  "nbformat": 4,
  "nbformat_minor": 0,
  "metadata": {
    "colab": {
      "provenance": [],
      "authorship_tag": "ABX9TyOagpBK+U62YlpxXYnF1JR2",
      "include_colab_link": true
    },
    "kernelspec": {
      "name": "python3",
      "display_name": "Python 3"
    },
    "language_info": {
      "name": "python"
    },
    "gpuClass": "standard"
  },
  "cells": [
    {
      "cell_type": "markdown",
      "metadata": {
        "id": "view-in-github",
        "colab_type": "text"
      },
      "source": [
        "<a href=\"https://colab.research.google.com/github/JanEggers-hr/telegram-recherche/blob/main/telepathy_recherche.ipynb\" target=\"_parent\"><img src=\"https://colab.research.google.com/assets/colab-badge.svg\" alt=\"Open In Colab\"/></a>"
      ]
    },
    {
      "cell_type": "markdown",
      "source": [
        "# Auf Telegram recherchieren mit Telepathy\n",
        "v00\n",
        "\n",
        "Mit diesem Notebook kann man die Kommandozeilen-Recherchetools \"Telepathy\" ([Github-Seite](https://github.com/jordanwildon/Telepathy))und \"tegracli\" ([Github-Seite](https://github.com/Leibniz-HBI/tegracli))für maßgeschneiderte Recherchen einsetzen, zum Beispiel:\n",
        "\n",
        "- Grundlagen-Infos über einen Kanal bzw. eine Gruppe; Liste der Gruppen-Mitglieder anlegen [hier](#scrollTo=aFfA9Hrrkf0L)\n",
        "\n",
        "TODO: \n",
        "- Herausfinden, wen ein Kanal alles verlinkt und zitiert [hier](#zitate)\n",
        "- Posting-Verhalten und -Erfolge auslesen und visualisieren[hier](#zitate)\n",
        "- Einzelne Konten beobachten: Wann haben sie was gepostet?[hier](#zitate)\n",
        "- Medien herunterladen (um diese dann zu verschriftlichen) [hier](#zitate)\n",
        "\n",
        "Für die Profis bietet dieses Colab ein **Terminal mit Kommandozeile** für Telepathy-Recherchen an. [Link](#scrollTo=gY8du35sg0Lb&line=3&uniqifier=1)\n",
        "\n",
        "## Voraussetzungen\n",
        "\n",
        "Wer ein Google-Konto hat, kann eine Kopie des Notebooks in [Colab](https://colab.research.google.com) ausführen - und die Ergebnisse in seinem [Google Drive](https://drive.google.com) speichern. (Bei Colab-Notebooks ist es sehr hilfreich, gespeicherte Dateien gleich ins Drive zu exportieren, damit sie gesichert sind, auch wenn die Laufzeit-Verbindung abbricht). Wer sich das Notebook lieber herunterlädt und lokal in JuPYter ausführen will, braucht dafür wahrscheinlich ohnehin keine Hilfe. \n",
        "\n",
        "Da Google ein Colab-Notebook nach 30 Minuten Inaktivität abmeldet, muss man für längere Scraping-Durchläufe ein Plugin installieren, das das Colab-Notebook aktiv hält. Zum Beispiel [für den Firefox dies hier](https://addons.mozilla.org/en-US/firefox/addon/colab-automatic-clicker/) oder [für Chrome dies hier](https://chrome.google.com/webstore/detail/colab-alive/eookkckfbbgnhdgcbfbicoahejkdoele?hl=de) \n",
        "\n",
        "## Telegram-Konto nötig\n",
        "\n",
        "Telepathy nutzt die API von Telegram - um die anzapfen zu können, braucht man\n",
        "- ein Telegram-Konto\n",
        "- eine API-App-ID und zugehörigen App-Hash, den man sich auf der entsprechenden [Telegram-Entwickler-Seite](https://my.telegram.org/apps) generiert\n",
        "- die zum Konto zugehörige Telefonnummer\n",
        "- für tegracli: eine Session-ID\n",
        "\n",
        "app_id, app_hash und telnr werden interaktiv erfragt und abgespeichert\n",
        "\n",
        "#ACHTUNG: Bug\n",
        "\n",
        "Derzeit funktioniert telepathy in diesem Notebook nur, wenn man die API- und Kontendaten wirklich neu von Hand eingibt. Wenn sie gespeichert sind, crasht das Tool mit einem sqlite3-Datenbank-Fehler - dann einfach im Ordner ```telepathy``` die .session-Datei löschen, und im Unterordner ```telepathy/telepathy_files``` die Datei login.txt\n"
      ],
      "metadata": {
        "id": "2gFmvXTNPly_"
      }
    },
    {
      "cell_type": "markdown",
      "source": [
        "# **Nötige Vorarbeiten:** Bibliothek installieren, Google Drive mounten\n",
        "\n",
        "Diese Box holt das Telepathy-Tool und mountet das Google-Drive. Im GDrive wird unter \"Meine Ablage\" ein Unterverzeichnis ```telepathy``` angelegt. "
      ],
      "metadata": {
        "id": "loYoNmIX5M0n"
      }
    },
    {
      "cell_type": "code",
      "source": [
        "!pip install telepathy\n",
        "\n",
        "# Für die Datensicherung: Drive verbinden\n",
        "import os\n",
        "from google.colab import drive\n",
        "drive.mount('/content/gdrive')\n",
        "\n",
        "# Ausgabeverzeichnis (/gdrive/MyDrive/telepathy/output) anlegen: \n",
        "if not os.path.exists(\"/content/gdrive/MyDrive/telepathy\"):\n",
        "    os.mkdir(\"/content/gdrive/MyDrive/telepathy\")\n",
        "\n",
        "path = \"/content/gdrive/MyDrive/telepathy/\"\n",
        "os.chdir(path)"
      ],
      "metadata": {
        "id": "clJVzC3Rnh0R"
      },
      "execution_count": null,
      "outputs": []
    },
    {
      "cell_type": "markdown",
      "source": [
        "## **Kanal- oder Gruppen-Profil** auslesen\n",
        "Liefert die Basics zu einer Gruppe oder einem Kanal \n",
        "\n",
        "Wenn das Ziel eine Gruppe ist, wird eine Liste aller Gruppenmitglieder in ```telepathy_files/<Gruppenname>/memberlist/``` als CSV-Datei angelegt (kann man mit Excel öffnen)\n",
        "\n",
        "\n",
        "\n"
      ],
      "metadata": {
        "id": "aFfA9Hrrkf0L"
      }
    },
    {
      "cell_type": "code",
      "source": [
        "import telepathy\n",
        "\n",
        "target = input('Kanal- oder Gruppen-ID: ')\n",
        "!telepathy -t {target}"
      ],
      "metadata": {
        "id": "eeZIqnPVktli"
      },
      "execution_count": null,
      "outputs": []
    },
    {
      "cell_type": "markdown",
      "source": [
        "## **Wen verlinkt und zitiert ein Kanal?**"
      ],
      "metadata": {
        "id": "6DT25Smc2Aep"
      }
    },
    {
      "cell_type": "code",
      "source": [
        "import telepathy\n",
        "\n",
        "target = input('Kanal- oder Gruppen-ID: ')\n",
        "!telepathy -t {target}"
      ],
      "metadata": {
        "id": "FS0zsy3Q2BiI"
      },
      "execution_count": null,
      "outputs": []
    },
    {
      "cell_type": "markdown",
      "source": [
        "## **Telepathy im Terminal via Kommandozeile** für Profis\n",
        "\n",
        "Am flexibelsten ist die Nutzung von Telepathy über die Kommandozeile. Ein Klick auf den Start-Button öffnet ein Terminal-Fenster, über das man Telepathy direkt aufrufen kann.  \n",
        "\n",
        "Befehle (aufrufen mit ```telepathy --help```):\n",
        "\n",
        "```\n",
        "Usage: telepathy [OPTIONS]\n",
        "\n",
        "Options:\n",
        "  -t, --target TEXT    Specifies a chat to investigate.\n",
        "  -c, --comprehensive  Comprehensive scan, includes archiving.\n",
        "  -m, --media          Archives media in the specified chat.\n",
        "  -f, --forwards       Scrapes forwarded messages.\n",
        "  -u, --user           Looks up a specified user ID.\n",
        "  -l, --location       Finds users near to specified coordinates.\n",
        "  -a, --alt INTEGER    Uses an alternative login.\n",
        "  -j, --json           Export to JSON.\n",
        "  -e, --export         Export a list of chats your account is part of.\n",
        "  -r, --replies        Enable replies analysis in channels.\n",
        "  -tr, --translate     Enable translation of chat content.\n",
        "  --help               Show this message and exit.\n",
        "```\n",
        "\n",
        "Um eine Tabelle herunterzuladen, die alle Posts eines Kanals mit Forwards und Nutzungsdaten enthält, gibt man also beispielsweise ein: \n",
        "\n",
        "```\n",
        "telepathy -t KANALNAME -c -f -r\n",
        "```\n",
        "\n",
        "Ergebnisse werden im telepathy-Ordner im GDrive gespeichert. \n",
        "\n",
        "Telepathy erfragt interaktiv die Zugangsdaten - dafür sind neben der App-ID und dem API-App-Hash die Telefonnummer und das Handy erforderlich. Auf dem Handy muss Telegram laufen; über die Telegram-App bekommt man dann den Freischaltcode. "
      ],
      "metadata": {
        "id": "gY8du35sg0Lb"
      }
    },
    {
      "cell_type": "code",
      "source": [
        "# Shell starten\n",
        "!pip install colab-xterm\n",
        "%load_ext colabxterm\n",
        "%xterm"
      ],
      "metadata": {
        "id": "4XujxtCFNf2L"
      },
      "execution_count": null,
      "outputs": []
    },
    {
      "cell_type": "markdown",
      "source": [
        "\n",
        "## Extra: **tegracli** installieren\n",
        "\n",
        "Das [tegracli-Tool](https://github.com/Leibniz-HBI/tegracli) der Forscher des Leibniz-HBI ist eine Alternative zu telepathy, um einzelne Posts und Inhalte herunterzuladen. Wie telepathy arbeitet es unter der Oberfläche mit der Library telethon; vermutlich wird es also da scheitern, wo auch telepathy scheitert. Es bietet aber bessere Möglichkeiten, die Downloads aus einem Kanal einzugrenzen, und eignet sich für die kontinuierliche Beobachtung von Kanälen. \n"
      ],
      "metadata": {
        "id": "ux378GfZ5ai8"
      }
    },
    {
      "cell_type": "code",
      "source": [
        "#!python -m pip install 'tegracli @ git+https://github.com/Leibniz-HBI/tegracli.git'\n",
        "!pip install tegracli\n",
        "\n",
        "\n",
        "# YAML-Datei anlegen, die den API-Key/-Hash enthält\n",
        "# Gibt es schon eine Login-Datei für telepathy? Nimm die. \n",
        "# Für die Datensicherung: Drive verbinden\n",
        "import os\n",
        "from datetime import datetime\n",
        "from google.colab import drive\n",
        "drive.mount('/content/gdrive')\n",
        "\n",
        "fname = \"/content/gdrive/MyDrive/telepathy/telepathy_files/login.txt\"\n",
        "if os.path.isfile(fname):\n",
        "  # Lies login.txt in die Variablen\n",
        "  loginfile = open(fname,'r')\n",
        "  # Liste der Einträge\n",
        "  logins = loginfile.readline().split(\",\")\n",
        "  loginfile.close()\n",
        "  api_id = logins[0]\n",
        "  api_hash = logins[1]\n",
        "  api_tel = logins[2]\n",
        "else:\n",
        "  api_id = input(\"Telegram-API-ID eingeben: \")\n",
        "  api_hash = input(\"Telegram-API-Hash eingeben: \")\n",
        "  api_tel = input(\"Telefonnummer eingeben: \")\n",
        "\n",
        "with open(\"tegracli.conf.yml\",\"w\") as f: \n",
        "  f.write(\"api_id: \" + api_id + \"\\n\")\n",
        "  f.write(\"api_hash: \" + api_hash + \"\\n\")\n",
        "  f.write(\"session_name: session\" + datetime.today().strftime('%Y-%m-%d') + \"\\n\")\n",
        "  f.close()\n",
        "\n",
        "\n",
        "# Shell starten\n",
        "!pip install colab-xterm\n",
        "%load_ext colabxterm\n",
        "%xterm"
      ],
      "metadata": {
        "id": "sFPc35725bFm"
      },
      "execution_count": null,
      "outputs": []
    },
    {
      "cell_type": "markdown",
      "source": [
        "## **Kanal-Audios bearbeiten** - herunterladen, verschriftlichen, verstichworten\n",
        "\n",
        "(TODO)"
      ],
      "metadata": {
        "id": "hFqIlbQi5HG4"
      }
    },
    {
      "cell_type": "markdown",
      "source": [
        "## KI-Verschriftlichung und Verstichwortung\n",
        "\n",
        "Übernahme aus dem youtube-scraper, angepasst auf .ova-Files in einem Verzeichnis\n"
      ],
      "metadata": {
        "id": "xm71ynzLMsYR"
      }
    },
    {
      "cell_type": "code",
      "source": [
        "import glob\n",
        "\n",
        "# absolute path to search all text files inside a specific folder\n",
        "path = r'/content/gdrive/MyDrive/telepathy/telepathy_files/fragunsdochDasOriginal/media/*.oga'\n",
        "files = glob.glob(path)\n",
        "print(len(files),\" Dateien verschriftlichen und verschlagworten\")\n",
        "\n",
        "import pandas as pd\n",
        "from dateutil import parser\n",
        "\n",
        "videos_df = pd.DataFrame(files)\n",
        "videos_df.columns = ['fname']\n",
        "videos_df[\"datetime\"] = videos_df[\"fname\"].str.split(\"voice_\").str[-1].str.split(\".\").str[0]\n",
        "videos_df[\"datetime\"] = pd.to_datetime(videos_df['datetime'],format=\"%Y-%m-%d_%H-%M-%S\")\n",
        "videos_df = videos_df.sort_values(\"datetime\", ascending=True)\n",
        "videos_df.head()\n",
        "\n",
        "videos_df.to_excel(\"telepathy-audiofiles.xlsx\")\n",
        "\n"
      ],
      "metadata": {
        "id": "co2WNfWwNEtX"
      },
      "execution_count": null,
      "outputs": []
    },
    {
      "cell_type": "markdown",
      "source": [
        "Hier beginnt die Verschriftlichung\n"
      ],
      "metadata": {
        "id": "qAmyzBZtRVDm"
      }
    },
    {
      "cell_type": "code",
      "source": [
        "\n",
        "!pip install git+https://github.com/openai/whisper.git \n"
      ],
      "metadata": {
        "id": "sxlSxfcsRVYJ"
      },
      "execution_count": null,
      "outputs": []
    },
    {
      "cell_type": "code",
      "source": [
        "import whisper\n",
        "import pandas as pd\n",
        "model = whisper.load_model(\"medium\")\n",
        "\n",
        "# Index-Datei nochmal holen\n",
        "videos_df = pd.read_excel(\"telepathy-audiofiles.xlsx\",index_col=0)\n",
        "\n",
        "# Wie oben: Liste von allen noch nicht konvertierten Dateien\n",
        "new_urls = []\n",
        "for fname in videos_df[\"fname\"]:\n",
        "    f = fname + \"_transcribe.txt\"\n",
        "    if not os.path.exists(f):\n",
        "        new_urls.append(fname)\n",
        "i = 0\n",
        "print(len(new_urls),\" MP3-Dateien zu verschriftlichen.\")\n",
        "\n",
        "for fname in new_urls:\n",
        "    txt_fname = fname + \"_transcribe.txt\"\n",
        "\n",
        "    result = model.transcribe(fname)\n",
        "    # Ergebnis der Umwandlung als Textdatei ausgeben\n",
        "    with open(txt_fname, 'w') as f:\n",
        "      f.write(result[\"text\"])\n",
        "    i = i + 1\n",
        "    print(i,\" - \",txt_fname,\" erzeugt\")\n",
        "    \n",
        "\n",
        "print(\"Fertig - \",len(new_urls),\" Dateien konvertiert.\")"
      ],
      "metadata": {
        "id": "i0iC4LbBPPOB"
      },
      "execution_count": null,
      "outputs": []
    },
    {
      "cell_type": "markdown",
      "source": [
        "# KI-Verschlagwortung"
      ],
      "metadata": {
        "id": "XlGUmR--RNi5"
      }
    },
    {
      "cell_type": "code",
      "source": [
        "# Library holen und installieren\n",
        "!pip install aleph_alpha_client"
      ],
      "metadata": {
        "id": "40LHNYJkaWnT"
      },
      "execution_count": null,
      "outputs": []
    },
    {
      "cell_type": "code",
      "source": [
        "# Falls das Colab inzwischen alles vergessen hat: \n",
        "# Alle Imports nochmal machen; Google-Drive nochmal mounten\n",
        "\n",
        "import hashlib\n",
        "import os\n",
        "import pandas as pd\n",
        "from google.colab import drive\n",
        "\n",
        "# Hilfsfunktion: Textdatei wieder einlesen\n",
        "def gettext(fname):\n",
        "    try: \n",
        "        textfile = open(fname,'r')\n",
        "    except:\n",
        "        print(\"**Datei \",fname,\" nicht gefunden!**\")\n",
        "        return(\"\")\n",
        "    text = textfile.readline()\n",
        "    textfile.close()\n",
        "    return(text.replace(\"\\n\",\"\"))\n",
        "\n",
        "drive.mount('/content/gdrive')\n",
        "path = \"/content/gdrive/MyDrive/telepathy\"\n",
        "os.chdir(path)\n",
        "\n",
        "# Erst das Aleph-Alpha-Token holen\n",
        "aa_token = gettext('/content/gdrive/MyDrive/aleph_alpha_key.txt')\n",
        "\n",
        "# Den Key gleich nutzen, um die Modelle zu laden\n",
        "# Boilerplate-Code für Aleph Alpha von https://github.com/Aleph-Alpha/examples/ kopiert\n",
        "from aleph_alpha_client import AlephAlphaModel, SummarizationRequest, EvaluationRequest, Document\n",
        "\n",
        "model = AlephAlphaModel.from_model_name(model_name=\"luminous-extended\", token = aa_token)\n",
        "\n",
        "print(\"AlephAlpha Token (MD5) \", hashlib.md5(aa_token.encode('utf-8')).hexdigest(),\" geladen und getestet.\")\n",
        "\n",
        "# Funktion generiert eine Zusammenfassung mit dem Aleph-Alpha-Modell luminous-extended (etwa wie GPT3-Curie.)\n",
        "def generate_summary(fname: str):\n",
        "    text = gettext(fname + \"_transcribe.txt\")\n",
        "    request = SummarizationRequest(document=Document.from_text(text))\n",
        "    result = model.summarize(request)\n",
        "    print(text[:60],\"... zusammengefasst in \",len(result.summary),\" Zeichen\")\n",
        "    return result.summary\n",
        "\n",
        "# Index-Datei nochmal holen\n",
        "videos_df = pd.read_excel(\"telepathy-audiofiles.xlsx\",index_col=0)\n",
        "videos_df.sort_values(\"datetime\",ascending=True)\n",
        "\n",
        "# Allen Index-Dateizeilen Summaries geben\n",
        "videos_df[\"summary\"] = videos_df[\"fname\"].map(generate_summary)\n",
        "\n",
        "videos_df.head(10)\n",
        "videos_df.to_excel(\"video_liste_annotiert.xlsx\")"
      ],
      "metadata": {
        "id": "0yrdzsuORLLJ"
      },
      "execution_count": null,
      "outputs": []
    }
  ]
}